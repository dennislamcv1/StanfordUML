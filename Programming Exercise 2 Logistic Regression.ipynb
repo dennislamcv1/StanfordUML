{
 "cells": [
  {
   "cell_type": "markdown",
   "metadata": {},
   "source": [
    "### Data Dictionary"
   ]
  },
  {
   "cell_type": "markdown",
   "metadata": {},
   "source": [
    "In this part of the exercise, you will build a logistic regression model to\n",
    "predict whether a student gets admitted into a university.\n",
    "\n",
    "Suppose that you are the administrator of a university department and\n",
    "you want to determine each applicant's chance of admission based on their\n",
    "results on two exams. You have historical data from previous applicants\n",
    "that you can use as a training set for logistic regression. For each training\n",
    "example, you have the applicant's scores on two exams and the admissions\n",
    "decision.\n",
    "\n",
    "Your task is to build a classi\f",
    "cation model that estimates an applicant's\n",
    "probability of admission based the scores from those two exams."
   ]
  },
  {
   "cell_type": "markdown",
   "metadata": {},
   "source": [
    "### Import Libraries"
   ]
  },
  {
   "cell_type": "code",
   "execution_count": 1,
   "metadata": {},
   "outputs": [],
   "source": [
    "import numpy as np\n",
    "import pandas as pd\n",
    "import matplotlib.pyplot as plt\n",
    "import seaborn as sns\n",
    "import sklearn\n",
    "\n",
    "\n",
    "from sklearn.linear_model import LogisticRegression\n",
    "\n",
    "%matplotlib inline\n",
    "sns.set_style('dark')\n",
    "sns.set(font_scale=1.2)\n",
    "\n",
    "\n",
    "from sklearn.model_selection import cross_val_score, train_test_split, GridSearchCV, RandomizedSearchCV\n",
    "from sklearn.preprocessing import LabelEncoder, StandardScaler, MinMaxScaler, OneHotEncoder\n",
    "from sklearn.pipeline import Pipeline\n",
    "from sklearn.metrics import confusion_matrix, classification_report, mean_absolute_error, mean_squared_error,r2_score\n",
    "from sklearn.metrics import plot_confusion_matrix, plot_precision_recall_curve, plot_roc_curve, accuracy_score\n",
    "from sklearn.metrics import auc, f1_score, precision_score, recall_score, roc_auc_score\n",
    "\n",
    "\n",
    "#import feature_engine.missing_data_imputers as mdi\n",
    "#from feature_engine.outlier_removers import Winsorizer\n",
    "\n",
    "#from tpot import TPOTClassifier, TPOTRegressor\n",
    "#from imblearn.under_sampling import RandomUnderSampler\n",
    "#from imblearn.over_sampling import RandomOverSampler\n",
    "#from imblearn.over_sampling import SMOTE\n",
    "\n",
    "import warnings\n",
    "warnings.filterwarnings('ignore')\n",
    "\n",
    "import pickle\n",
    "from pickle import dump, load\n",
    "\n",
    "np.random.seed(0)\n",
    "\n",
    "#from pycaret.classification import *\n",
    "#from pycaret.clustering import *\n",
    "#from pycaret.regression import *\n",
    "\n",
    "pd.set_option('display.max_columns',100)\n",
    "#pd.set_option('display.max_rows',100)\n",
    "pd.set_option('display.width', 1000)"
   ]
  },
  {
   "cell_type": "markdown",
   "metadata": {},
   "source": [
    "### Data Exploration and Analysis"
   ]
  },
  {
   "cell_type": "code",
   "execution_count": 2,
   "metadata": {},
   "outputs": [],
   "source": [
    "df = pd.read_csv(\"admission.csv\")"
   ]
  },
  {
   "cell_type": "code",
   "execution_count": 3,
   "metadata": {},
   "outputs": [
    {
     "data": {
      "text/html": [
       "<div>\n",
       "<style scoped>\n",
       "    .dataframe tbody tr th:only-of-type {\n",
       "        vertical-align: middle;\n",
       "    }\n",
       "\n",
       "    .dataframe tbody tr th {\n",
       "        vertical-align: top;\n",
       "    }\n",
       "\n",
       "    .dataframe thead th {\n",
       "        text-align: right;\n",
       "    }\n",
       "</style>\n",
       "<table border=\"1\" class=\"dataframe\">\n",
       "  <thead>\n",
       "    <tr style=\"text-align: right;\">\n",
       "      <th></th>\n",
       "      <th>exam1</th>\n",
       "      <th>exam2</th>\n",
       "      <th>admission</th>\n",
       "    </tr>\n",
       "  </thead>\n",
       "  <tbody>\n",
       "    <tr>\n",
       "      <th>0</th>\n",
       "      <td>34.623660</td>\n",
       "      <td>78.024693</td>\n",
       "      <td>0</td>\n",
       "    </tr>\n",
       "    <tr>\n",
       "      <th>1</th>\n",
       "      <td>30.286711</td>\n",
       "      <td>43.894998</td>\n",
       "      <td>0</td>\n",
       "    </tr>\n",
       "    <tr>\n",
       "      <th>2</th>\n",
       "      <td>35.847409</td>\n",
       "      <td>72.902198</td>\n",
       "      <td>0</td>\n",
       "    </tr>\n",
       "    <tr>\n",
       "      <th>3</th>\n",
       "      <td>60.182599</td>\n",
       "      <td>86.308552</td>\n",
       "      <td>1</td>\n",
       "    </tr>\n",
       "    <tr>\n",
       "      <th>4</th>\n",
       "      <td>79.032736</td>\n",
       "      <td>75.344376</td>\n",
       "      <td>1</td>\n",
       "    </tr>\n",
       "    <tr>\n",
       "      <th>...</th>\n",
       "      <td>...</td>\n",
       "      <td>...</td>\n",
       "      <td>...</td>\n",
       "    </tr>\n",
       "    <tr>\n",
       "      <th>95</th>\n",
       "      <td>83.489163</td>\n",
       "      <td>48.380286</td>\n",
       "      <td>1</td>\n",
       "    </tr>\n",
       "    <tr>\n",
       "      <th>96</th>\n",
       "      <td>42.261701</td>\n",
       "      <td>87.103851</td>\n",
       "      <td>1</td>\n",
       "    </tr>\n",
       "    <tr>\n",
       "      <th>97</th>\n",
       "      <td>99.315009</td>\n",
       "      <td>68.775409</td>\n",
       "      <td>1</td>\n",
       "    </tr>\n",
       "    <tr>\n",
       "      <th>98</th>\n",
       "      <td>55.340018</td>\n",
       "      <td>64.931938</td>\n",
       "      <td>1</td>\n",
       "    </tr>\n",
       "    <tr>\n",
       "      <th>99</th>\n",
       "      <td>74.775893</td>\n",
       "      <td>89.529813</td>\n",
       "      <td>1</td>\n",
       "    </tr>\n",
       "  </tbody>\n",
       "</table>\n",
       "<p>100 rows × 3 columns</p>\n",
       "</div>"
      ],
      "text/plain": [
       "        exam1      exam2  admission\n",
       "0   34.623660  78.024693          0\n",
       "1   30.286711  43.894998          0\n",
       "2   35.847409  72.902198          0\n",
       "3   60.182599  86.308552          1\n",
       "4   79.032736  75.344376          1\n",
       "..        ...        ...        ...\n",
       "95  83.489163  48.380286          1\n",
       "96  42.261701  87.103851          1\n",
       "97  99.315009  68.775409          1\n",
       "98  55.340018  64.931938          1\n",
       "99  74.775893  89.529813          1\n",
       "\n",
       "[100 rows x 3 columns]"
      ]
     },
     "execution_count": 3,
     "metadata": {},
     "output_type": "execute_result"
    }
   ],
   "source": [
    "df"
   ]
  },
  {
   "cell_type": "code",
   "execution_count": 4,
   "metadata": {},
   "outputs": [
    {
     "name": "stdout",
     "output_type": "stream",
     "text": [
      "<class 'pandas.core.frame.DataFrame'>\n",
      "RangeIndex: 100 entries, 0 to 99\n",
      "Data columns (total 3 columns):\n",
      " #   Column     Non-Null Count  Dtype  \n",
      "---  ------     --------------  -----  \n",
      " 0   exam1      100 non-null    float64\n",
      " 1   exam2      100 non-null    float64\n",
      " 2   admission  100 non-null    int64  \n",
      "dtypes: float64(2), int64(1)\n",
      "memory usage: 2.5 KB\n"
     ]
    }
   ],
   "source": [
    "df.info()"
   ]
  },
  {
   "cell_type": "code",
   "execution_count": 5,
   "metadata": {},
   "outputs": [
    {
     "data": {
      "text/html": [
       "<div>\n",
       "<style scoped>\n",
       "    .dataframe tbody tr th:only-of-type {\n",
       "        vertical-align: middle;\n",
       "    }\n",
       "\n",
       "    .dataframe tbody tr th {\n",
       "        vertical-align: top;\n",
       "    }\n",
       "\n",
       "    .dataframe thead th {\n",
       "        text-align: right;\n",
       "    }\n",
       "</style>\n",
       "<table border=\"1\" class=\"dataframe\">\n",
       "  <thead>\n",
       "    <tr style=\"text-align: right;\">\n",
       "      <th></th>\n",
       "      <th>exam1</th>\n",
       "      <th>exam2</th>\n",
       "      <th>admission</th>\n",
       "    </tr>\n",
       "  </thead>\n",
       "  <tbody>\n",
       "    <tr>\n",
       "      <th>count</th>\n",
       "      <td>100.000000</td>\n",
       "      <td>100.000000</td>\n",
       "      <td>100.000000</td>\n",
       "    </tr>\n",
       "    <tr>\n",
       "      <th>mean</th>\n",
       "      <td>65.644274</td>\n",
       "      <td>66.221998</td>\n",
       "      <td>0.600000</td>\n",
       "    </tr>\n",
       "    <tr>\n",
       "      <th>std</th>\n",
       "      <td>19.458222</td>\n",
       "      <td>18.582783</td>\n",
       "      <td>0.492366</td>\n",
       "    </tr>\n",
       "    <tr>\n",
       "      <th>min</th>\n",
       "      <td>30.058822</td>\n",
       "      <td>30.603263</td>\n",
       "      <td>0.000000</td>\n",
       "    </tr>\n",
       "    <tr>\n",
       "      <th>25%</th>\n",
       "      <td>50.919511</td>\n",
       "      <td>48.179205</td>\n",
       "      <td>0.000000</td>\n",
       "    </tr>\n",
       "    <tr>\n",
       "      <th>50%</th>\n",
       "      <td>67.032988</td>\n",
       "      <td>67.682381</td>\n",
       "      <td>1.000000</td>\n",
       "    </tr>\n",
       "    <tr>\n",
       "      <th>75%</th>\n",
       "      <td>80.212529</td>\n",
       "      <td>79.360605</td>\n",
       "      <td>1.000000</td>\n",
       "    </tr>\n",
       "    <tr>\n",
       "      <th>max</th>\n",
       "      <td>99.827858</td>\n",
       "      <td>98.869436</td>\n",
       "      <td>1.000000</td>\n",
       "    </tr>\n",
       "  </tbody>\n",
       "</table>\n",
       "</div>"
      ],
      "text/plain": [
       "            exam1       exam2   admission\n",
       "count  100.000000  100.000000  100.000000\n",
       "mean    65.644274   66.221998    0.600000\n",
       "std     19.458222   18.582783    0.492366\n",
       "min     30.058822   30.603263    0.000000\n",
       "25%     50.919511   48.179205    0.000000\n",
       "50%     67.032988   67.682381    1.000000\n",
       "75%     80.212529   79.360605    1.000000\n",
       "max     99.827858   98.869436    1.000000"
      ]
     },
     "execution_count": 5,
     "metadata": {},
     "output_type": "execute_result"
    }
   ],
   "source": [
    "df.describe(include='all')"
   ]
  },
  {
   "cell_type": "code",
   "execution_count": 6,
   "metadata": {},
   "outputs": [
    {
     "data": {
      "text/plain": [
       "(100, 3)"
      ]
     },
     "execution_count": 6,
     "metadata": {},
     "output_type": "execute_result"
    }
   ],
   "source": [
    "df.shape"
   ]
  },
  {
   "cell_type": "code",
   "execution_count": 7,
   "metadata": {},
   "outputs": [
    {
     "data": {
      "text/plain": [
       "Index(['exam1', 'exam2', 'admission'], dtype='object')"
      ]
     },
     "execution_count": 7,
     "metadata": {},
     "output_type": "execute_result"
    }
   ],
   "source": [
    "df.columns"
   ]
  },
  {
   "cell_type": "markdown",
   "metadata": {},
   "source": [
    "### Data Visualization"
   ]
  },
  {
   "cell_type": "markdown",
   "metadata": {},
   "source": [
    "### Bivariate Data Exploration"
   ]
  },
  {
   "cell_type": "code",
   "execution_count": 8,
   "metadata": {},
   "outputs": [
    {
     "data": {
      "image/png": "[encoded data removed]",
      "text/plain": [
       "<Figure size 432x432 with 3 Axes>"
      ]
     },
     "metadata": {},
     "output_type": "display_data"
    }
   ],
   "source": [
    "sns.jointplot(x='exam1', y='exam2',data=df, kind='scatter')\n",
    "plt.show()"
   ]
  },
  {
   "cell_type": "markdown",
   "metadata": {},
   "source": [
    "### Train Test Split"
   ]
  },
  {
   "cell_type": "code",
   "execution_count": 9,
   "metadata": {},
   "outputs": [],
   "source": [
    "X = df.iloc[:,0:2]\n",
    "y = df.iloc[:,2]"
   ]
  },
  {
   "cell_type": "code",
   "execution_count": 10,
   "metadata": {},
   "outputs": [
    {
     "data": {
      "text/plain": [
       "(array([[34.62365962, 78.02469282],\n",
       "        [30.28671077, 43.89499752],\n",
       "        [35.84740877, 72.90219803],\n",
       "        [60.18259939, 86.3085521 ],\n",
       "        [79.03273605, 75.34437644],\n",
       "        [45.08327748, 56.31637178],\n",
       "        [61.10666454, 96.51142588],\n",
       "        [75.02474557, 46.55401354],\n",
       "        [76.0987867 , 87.42056972],\n",
       "        [84.43281996, 43.53339331],\n",
       "        [95.86155507, 38.22527806],\n",
       "        [75.01365839, 30.60326323],\n",
       "        [82.30705337, 76.4819633 ],\n",
       "        [69.36458876, 97.71869196],\n",
       "        [39.53833914, 76.03681085],\n",
       "        [53.97105215, 89.20735014],\n",
       "        [69.07014406, 52.74046973],\n",
       "        [67.94685548, 46.67857411],\n",
       "        [70.66150955, 92.92713789],\n",
       "        [76.97878373, 47.57596365],\n",
       "        [67.37202755, 42.83843832],\n",
       "        [89.67677575, 65.79936593],\n",
       "        [50.53478829, 48.85581153],\n",
       "        [34.21206098, 44.2095286 ],\n",
       "        [77.92409145, 68.97235999],\n",
       "        [62.27101367, 69.95445795],\n",
       "        [80.19018075, 44.82162893],\n",
       "        [93.1143888 , 38.80067034],\n",
       "        [61.83020602, 50.25610789],\n",
       "        [38.7858038 , 64.99568096],\n",
       "        [61.37928945, 72.80788731],\n",
       "        [85.40451939, 57.05198398],\n",
       "        [52.10797973, 63.12762377],\n",
       "        [52.04540477, 69.43286012],\n",
       "        [40.23689374, 71.16774802],\n",
       "        [54.63510555, 52.21388588],\n",
       "        [33.91550011, 98.86943574],\n",
       "        [64.17698887, 80.90806059],\n",
       "        [74.78925296, 41.57341523],\n",
       "        [34.18364003, 75.23772034],\n",
       "        [83.90239366, 56.30804622],\n",
       "        [51.54772027, 46.85629026],\n",
       "        [94.44336777, 65.56892161],\n",
       "        [82.36875376, 40.61825516],\n",
       "        [51.04775177, 45.82270146],\n",
       "        [62.22267576, 52.06099195],\n",
       "        [77.19303493, 70.4582    ],\n",
       "        [97.77159928, 86.72782233],\n",
       "        [62.0730638 , 96.76882412],\n",
       "        [91.5649745 , 88.69629255],\n",
       "        [79.94481794, 74.16311935],\n",
       "        [99.27252693, 60.999031  ],\n",
       "        [90.54671411, 43.39060181],\n",
       "        [34.52451385, 60.39634246],\n",
       "        [50.28649612, 49.80453881],\n",
       "        [49.58667722, 59.80895099],\n",
       "        [97.64563396, 68.86157272],\n",
       "        [32.57720017, 95.59854761],\n",
       "        [74.24869137, 69.82457123],\n",
       "        [71.79646206, 78.45356225],\n",
       "        [75.39561147, 85.75993667],\n",
       "        [35.28611282, 47.02051395],\n",
       "        [56.2538175 , 39.26147251],\n",
       "        [30.05882245, 49.59297387],\n",
       "        [44.66826172, 66.45008615],\n",
       "        [66.56089447, 41.09209808],\n",
       "        [40.45755098, 97.53518549],\n",
       "        [49.07256322, 51.88321182],\n",
       "        [80.27957401, 92.11606081],\n",
       "        [66.74671857, 60.99139403],\n",
       "        [32.72283304, 43.30717306],\n",
       "        [64.03932042, 78.03168802],\n",
       "        [72.34649423, 96.22759297],\n",
       "        [60.45788574, 73.0949981 ],\n",
       "        [58.84095622, 75.85844831],\n",
       "        [99.8278578 , 72.36925193],\n",
       "        [47.26426911, 88.475865  ],\n",
       "        [50.4581598 , 75.80985953],\n",
       "        [60.45555629, 42.50840944],\n",
       "        [82.22666158, 42.71987854],\n",
       "        [88.91389642, 69.8037889 ],\n",
       "        [94.83450672, 45.6943068 ],\n",
       "        [67.31925747, 66.58935318],\n",
       "        [57.23870632, 59.51428198],\n",
       "        [80.366756  , 90.9601479 ],\n",
       "        [68.46852179, 85.5943071 ],\n",
       "        [42.07545454, 78.844786  ],\n",
       "        [75.47770201, 90.424539  ],\n",
       "        [78.63542435, 96.64742717],\n",
       "        [52.34800399, 60.76950526],\n",
       "        [94.09433113, 77.15910509],\n",
       "        [90.44855097, 87.50879176],\n",
       "        [55.48216114, 35.57070347],\n",
       "        [74.49269242, 84.84513685],\n",
       "        [89.84580671, 45.35828361],\n",
       "        [83.48916274, 48.3802858 ],\n",
       "        [42.26170081, 87.10385094],\n",
       "        [99.31500881, 68.77540947],\n",
       "        [55.34001756, 64.93193801],\n",
       "        [74.775893  , 89.5298129 ]]),\n",
       " array([0, 0, 0, 1, 1, 0, 1, 1, 1, 1, 0, 0, 1, 1, 0, 1, 1, 0, 1, 1, 0, 1,\n",
       "        0, 0, 1, 1, 1, 0, 0, 0, 1, 1, 0, 1, 0, 0, 0, 1, 0, 0, 1, 0, 1, 0,\n",
       "        0, 0, 1, 1, 1, 1, 1, 1, 1, 0, 0, 0, 1, 0, 1, 1, 1, 0, 0, 0, 0, 0,\n",
       "        1, 0, 1, 1, 0, 1, 1, 1, 1, 1, 1, 1, 0, 0, 1, 1, 1, 1, 1, 1, 0, 1,\n",
       "        1, 0, 1, 1, 0, 1, 1, 1, 1, 1, 1, 1], dtype=int64))"
      ]
     },
     "execution_count": 10,
     "metadata": {},
     "output_type": "execute_result"
    }
   ],
   "source": [
    "X.values, y.values"
   ]
  },
  {
   "cell_type": "code",
   "execution_count": 11,
   "metadata": {},
   "outputs": [],
   "source": [
    "X_train, X_test, y_train, y_test = train_test_split(X, y, test_size=0.2, random_state=0)"
   ]
  },
  {
   "cell_type": "code",
   "execution_count": 12,
   "metadata": {},
   "outputs": [
    {
     "data": {
      "text/plain": [
       "((80, 2), (20, 2), (80,), (20,))"
      ]
     },
     "execution_count": 12,
     "metadata": {},
     "output_type": "execute_result"
    }
   ],
   "source": [
    "X_train.shape, X_test.shape, y_train.shape, y_test.shape"
   ]
  },
  {
   "cell_type": "markdown",
   "metadata": {},
   "source": [
    "### Feature Scaling"
   ]
  },
  {
   "cell_type": "code",
   "execution_count": 13,
   "metadata": {},
   "outputs": [
    {
     "data": {
      "text/html": [
       "<div>\n",
       "<style scoped>\n",
       "    .dataframe tbody tr th:only-of-type {\n",
       "        vertical-align: middle;\n",
       "    }\n",
       "\n",
       "    .dataframe tbody tr th {\n",
       "        vertical-align: top;\n",
       "    }\n",
       "\n",
       "    .dataframe thead th {\n",
       "        text-align: right;\n",
       "    }\n",
       "</style>\n",
       "<table border=\"1\" class=\"dataframe\">\n",
       "  <thead>\n",
       "    <tr style=\"text-align: right;\">\n",
       "      <th></th>\n",
       "      <th>exam1</th>\n",
       "      <th>exam2</th>\n",
       "    </tr>\n",
       "  </thead>\n",
       "  <tbody>\n",
       "    <tr>\n",
       "      <th>43</th>\n",
       "      <td>82.368754</td>\n",
       "      <td>40.618255</td>\n",
       "    </tr>\n",
       "    <tr>\n",
       "      <th>62</th>\n",
       "      <td>56.253818</td>\n",
       "      <td>39.261473</td>\n",
       "    </tr>\n",
       "    <tr>\n",
       "      <th>3</th>\n",
       "      <td>60.182599</td>\n",
       "      <td>86.308552</td>\n",
       "    </tr>\n",
       "    <tr>\n",
       "      <th>71</th>\n",
       "      <td>64.039320</td>\n",
       "      <td>78.031688</td>\n",
       "    </tr>\n",
       "    <tr>\n",
       "      <th>45</th>\n",
       "      <td>62.222676</td>\n",
       "      <td>52.060992</td>\n",
       "    </tr>\n",
       "    <tr>\n",
       "      <th>...</th>\n",
       "      <td>...</td>\n",
       "      <td>...</td>\n",
       "    </tr>\n",
       "    <tr>\n",
       "      <th>96</th>\n",
       "      <td>42.261701</td>\n",
       "      <td>87.103851</td>\n",
       "    </tr>\n",
       "    <tr>\n",
       "      <th>67</th>\n",
       "      <td>49.072563</td>\n",
       "      <td>51.883212</td>\n",
       "    </tr>\n",
       "    <tr>\n",
       "      <th>64</th>\n",
       "      <td>44.668262</td>\n",
       "      <td>66.450086</td>\n",
       "    </tr>\n",
       "    <tr>\n",
       "      <th>47</th>\n",
       "      <td>97.771599</td>\n",
       "      <td>86.727822</td>\n",
       "    </tr>\n",
       "    <tr>\n",
       "      <th>44</th>\n",
       "      <td>51.047752</td>\n",
       "      <td>45.822701</td>\n",
       "    </tr>\n",
       "  </tbody>\n",
       "</table>\n",
       "<p>80 rows × 2 columns</p>\n",
       "</div>"
      ],
      "text/plain": [
       "        exam1      exam2\n",
       "43  82.368754  40.618255\n",
       "62  56.253818  39.261473\n",
       "3   60.182599  86.308552\n",
       "71  64.039320  78.031688\n",
       "45  62.222676  52.060992\n",
       "..        ...        ...\n",
       "96  42.261701  87.103851\n",
       "67  49.072563  51.883212\n",
       "64  44.668262  66.450086\n",
       "47  97.771599  86.727822\n",
       "44  51.047752  45.822701\n",
       "\n",
       "[80 rows x 2 columns]"
      ]
     },
     "execution_count": 13,
     "metadata": {},
     "output_type": "execute_result"
    }
   ],
   "source": [
    "X_train"
   ]
  },
  {
   "cell_type": "markdown",
   "metadata": {},
   "source": [
    "### Model Training"
   ]
  },
  {
   "cell_type": "code",
   "execution_count": 14,
   "metadata": {},
   "outputs": [],
   "source": [
    "lr = LogisticRegression()"
   ]
  },
  {
   "cell_type": "code",
   "execution_count": 15,
   "metadata": {},
   "outputs": [
    {
     "data": {
      "text/plain": [
       "LogisticRegression()"
      ]
     },
     "execution_count": 15,
     "metadata": {},
     "output_type": "execute_result"
    }
   ],
   "source": [
    "lr.fit(X_train,y_train)"
   ]
  },
  {
   "cell_type": "code",
   "execution_count": 16,
   "metadata": {},
   "outputs": [],
   "source": [
    "ypred = lr.predict_proba(X_test)"
   ]
  },
  {
   "cell_type": "code",
   "execution_count": 17,
   "metadata": {},
   "outputs": [
    {
     "data": {
      "text/plain": [
       "array([[5.63705293e-01, 4.36294707e-01],\n",
       "       [6.80180160e-01, 3.19819840e-01],\n",
       "       [9.60959084e-01, 3.90409161e-02],\n",
       "       [9.60617739e-01, 3.93822614e-02],\n",
       "       [9.34410266e-05, 9.99906559e-01],\n",
       "       [1.04787944e-03, 9.98952121e-01],\n",
       "       [6.93128150e-01, 3.06871850e-01],\n",
       "       [1.57148103e-01, 8.42851897e-01],\n",
       "       [9.94033360e-01, 5.96664047e-03],\n",
       "       [2.45004744e-01, 7.54995256e-01],\n",
       "       [9.97618264e-01, 2.38173592e-03],\n",
       "       [9.99109309e-01, 8.90690876e-04],\n",
       "       [9.90204626e-01, 9.79537390e-03],\n",
       "       [2.03364990e-04, 9.99796635e-01],\n",
       "       [7.14267548e-01, 2.85732452e-01],\n",
       "       [1.41627264e-01, 8.58372736e-01],\n",
       "       [9.94841744e-01, 5.15825616e-03],\n",
       "       [1.38109603e-02, 9.86189040e-01],\n",
       "       [6.74730422e-01, 3.25269578e-01],\n",
       "       [4.49883845e-04, 9.99550116e-01]])"
      ]
     },
     "execution_count": 17,
     "metadata": {},
     "output_type": "execute_result"
    }
   ],
   "source": [
    "ypred"
   ]
  },
  {
   "cell_type": "code",
   "execution_count": 18,
   "metadata": {},
   "outputs": [],
   "source": [
    "test = pd.DataFrame([[45,85]], columns=['exam1','exam2'])"
   ]
  },
  {
   "cell_type": "code",
   "execution_count": 19,
   "metadata": {},
   "outputs": [
    {
     "data": {
      "text/html": [
       "<div>\n",
       "<style scoped>\n",
       "    .dataframe tbody tr th:only-of-type {\n",
       "        vertical-align: middle;\n",
       "    }\n",
       "\n",
       "    .dataframe tbody tr th {\n",
       "        vertical-align: top;\n",
       "    }\n",
       "\n",
       "    .dataframe thead th {\n",
       "        text-align: right;\n",
       "    }\n",
       "</style>\n",
       "<table border=\"1\" class=\"dataframe\">\n",
       "  <thead>\n",
       "    <tr style=\"text-align: right;\">\n",
       "      <th></th>\n",
       "      <th>exam1</th>\n",
       "      <th>exam2</th>\n",
       "    </tr>\n",
       "  </thead>\n",
       "  <tbody>\n",
       "    <tr>\n",
       "      <th>0</th>\n",
       "      <td>45</td>\n",
       "      <td>85</td>\n",
       "    </tr>\n",
       "  </tbody>\n",
       "</table>\n",
       "</div>"
      ],
      "text/plain": [
       "   exam1  exam2\n",
       "0     45     85"
      ]
     },
     "execution_count": 19,
     "metadata": {},
     "output_type": "execute_result"
    }
   ],
   "source": [
    "test"
   ]
  },
  {
   "cell_type": "code",
   "execution_count": 20,
   "metadata": {},
   "outputs": [
    {
     "data": {
      "text/plain": [
       "array([[0.25203888, 0.74796112]])"
      ]
     },
     "execution_count": 20,
     "metadata": {},
     "output_type": "execute_result"
    }
   ],
   "source": [
    "lr.predict_proba(test)"
   ]
  },
  {
   "cell_type": "markdown",
   "metadata": {},
   "source": [
    "After you have completed the code in predict.m, the ex2.m script will\n",
    "proceed to report the training accuracy of your classi\f",
    "er by computing the\n",
    "percentage of examples it got correct."
   ]
  },
  {
   "cell_type": "markdown",
   "metadata": {},
   "source": [
    "### Load test data"
   ]
  },
  {
   "cell_type": "code",
   "execution_count": 21,
   "metadata": {},
   "outputs": [],
   "source": [
    "testdata = pd.read_csv(\"test.csv\")"
   ]
  },
  {
   "cell_type": "code",
   "execution_count": 22,
   "metadata": {},
   "outputs": [
    {
     "data": {
      "text/html": [
       "<div>\n",
       "<style scoped>\n",
       "    .dataframe tbody tr th:only-of-type {\n",
       "        vertical-align: middle;\n",
       "    }\n",
       "\n",
       "    .dataframe tbody tr th {\n",
       "        vertical-align: top;\n",
       "    }\n",
       "\n",
       "    .dataframe thead th {\n",
       "        text-align: right;\n",
       "    }\n",
       "</style>\n",
       "<table border=\"1\" class=\"dataframe\">\n",
       "  <thead>\n",
       "    <tr style=\"text-align: right;\">\n",
       "      <th></th>\n",
       "      <th>exam1</th>\n",
       "      <th>exam2</th>\n",
       "    </tr>\n",
       "  </thead>\n",
       "  <tbody>\n",
       "    <tr>\n",
       "      <th>0</th>\n",
       "      <td>0.051267</td>\n",
       "      <td>0.699560</td>\n",
       "    </tr>\n",
       "    <tr>\n",
       "      <th>1</th>\n",
       "      <td>-0.092742</td>\n",
       "      <td>0.684940</td>\n",
       "    </tr>\n",
       "    <tr>\n",
       "      <th>2</th>\n",
       "      <td>-0.213710</td>\n",
       "      <td>0.692250</td>\n",
       "    </tr>\n",
       "    <tr>\n",
       "      <th>3</th>\n",
       "      <td>-0.375000</td>\n",
       "      <td>0.502190</td>\n",
       "    </tr>\n",
       "    <tr>\n",
       "      <th>4</th>\n",
       "      <td>-0.513250</td>\n",
       "      <td>0.465640</td>\n",
       "    </tr>\n",
       "    <tr>\n",
       "      <th>...</th>\n",
       "      <td>...</td>\n",
       "      <td>...</td>\n",
       "    </tr>\n",
       "    <tr>\n",
       "      <th>113</th>\n",
       "      <td>-0.720620</td>\n",
       "      <td>0.538740</td>\n",
       "    </tr>\n",
       "    <tr>\n",
       "      <th>114</th>\n",
       "      <td>-0.593890</td>\n",
       "      <td>0.494880</td>\n",
       "    </tr>\n",
       "    <tr>\n",
       "      <th>115</th>\n",
       "      <td>-0.484450</td>\n",
       "      <td>0.999270</td>\n",
       "    </tr>\n",
       "    <tr>\n",
       "      <th>116</th>\n",
       "      <td>-0.006336</td>\n",
       "      <td>0.999270</td>\n",
       "    </tr>\n",
       "    <tr>\n",
       "      <th>117</th>\n",
       "      <td>0.632650</td>\n",
       "      <td>-0.030612</td>\n",
       "    </tr>\n",
       "  </tbody>\n",
       "</table>\n",
       "<p>118 rows × 2 columns</p>\n",
       "</div>"
      ],
      "text/plain": [
       "        exam1     exam2\n",
       "0    0.051267  0.699560\n",
       "1   -0.092742  0.684940\n",
       "2   -0.213710  0.692250\n",
       "3   -0.375000  0.502190\n",
       "4   -0.513250  0.465640\n",
       "..        ...       ...\n",
       "113 -0.720620  0.538740\n",
       "114 -0.593890  0.494880\n",
       "115 -0.484450  0.999270\n",
       "116 -0.006336  0.999270\n",
       "117  0.632650 -0.030612\n",
       "\n",
       "[118 rows x 2 columns]"
      ]
     },
     "execution_count": 22,
     "metadata": {},
     "output_type": "execute_result"
    }
   ],
   "source": [
    "testdata"
   ]
  },
  {
   "cell_type": "code",
   "execution_count": 25,
   "metadata": {},
   "outputs": [
    {
     "data": {
      "text/plain": [
       "array([[1.00000000e+00, 1.24641279e-11],\n",
       "       [1.00000000e+00, 1.20794464e-11],\n",
       "       [1.00000000e+00, 1.18130381e-11],\n",
       "       [1.00000000e+00, 1.10049550e-11],\n",
       "       [1.00000000e+00, 1.06293185e-11],\n",
       "       [1.00000000e+00, 1.00612716e-11],\n",
       "       [1.00000000e+00, 9.94952592e-12],\n",
       "       [1.00000000e+00, 9.66994623e-12],\n",
       "       [1.00000000e+00, 9.86384145e-12],\n",
       "       [1.00000000e+00, 9.86487115e-12],\n",
       "       [1.00000000e+00, 1.02607762e-11],\n",
       "       [1.00000000e+00, 1.06514505e-11],\n",
       "       [1.00000000e+00, 1.15236843e-11],\n",
       "       [1.00000000e+00, 1.18901777e-11],\n",
       "       [1.00000000e+00, 1.31538648e-11],\n",
       "       [1.00000000e+00, 1.28335383e-11],\n",
       "       [1.00000000e+00, 1.23348335e-11],\n",
       "       [1.00000000e+00, 1.25241065e-11],\n",
       "       [1.00000000e+00, 1.19250730e-11],\n",
       "       [1.00000000e+00, 1.10786612e-11],\n",
       "       [1.00000000e+00, 1.07248165e-11],\n",
       "       [1.00000000e+00, 1.01134095e-11],\n",
       "       [1.00000000e+00, 9.51590310e-12],\n",
       "       [1.00000000e+00, 9.29802817e-12],\n",
       "       [1.00000000e+00, 9.62445904e-12],\n",
       "       [1.00000000e+00, 9.82107502e-12],\n",
       "       [1.00000000e+00, 1.04878361e-11],\n",
       "       [1.00000000e+00, 1.09247152e-11],\n",
       "       [1.00000000e+00, 1.16330699e-11],\n",
       "       [1.00000000e+00, 1.18388703e-11],\n",
       "       [1.00000000e+00, 1.23625090e-11],\n",
       "       [1.00000000e+00, 1.22065567e-11],\n",
       "       [1.00000000e+00, 1.18001431e-11],\n",
       "       [1.00000000e+00, 1.11391543e-11],\n",
       "       [1.00000000e+00, 1.06068044e-11],\n",
       "       [1.00000000e+00, 1.01278663e-11],\n",
       "       [1.00000000e+00, 9.75825659e-12],\n",
       "       [1.00000000e+00, 1.01567659e-11],\n",
       "       [1.00000000e+00, 1.04603627e-11],\n",
       "       [1.00000000e+00, 1.02709067e-11],\n",
       "       [1.00000000e+00, 1.07983872e-11],\n",
       "       [1.00000000e+00, 1.13116452e-11],\n",
       "       [1.00000000e+00, 1.17823533e-11],\n",
       "       [1.00000000e+00, 1.17272998e-11],\n",
       "       [1.00000000e+00, 1.24894566e-11],\n",
       "       [1.00000000e+00, 1.26448289e-11],\n",
       "       [1.00000000e+00, 1.35019009e-11],\n",
       "       [1.00000000e+00, 1.24379921e-11],\n",
       "       [1.00000000e+00, 1.33821581e-11],\n",
       "       [1.00000000e+00, 1.31264519e-11],\n",
       "       [1.00000000e+00, 1.23577330e-11],\n",
       "       [1.00000000e+00, 1.15864249e-11],\n",
       "       [1.00000000e+00, 1.17567126e-11],\n",
       "       [1.00000000e+00, 1.10356440e-11],\n",
       "       [1.00000000e+00, 1.06282969e-11],\n",
       "       [1.00000000e+00, 1.02492363e-11],\n",
       "       [1.00000000e+00, 1.01974253e-11],\n",
       "       [1.00000000e+00, 9.82912572e-12],\n",
       "       [1.00000000e+00, 1.34243851e-11],\n",
       "       [1.00000000e+00, 1.31104963e-11],\n",
       "       [1.00000000e+00, 1.28719464e-11],\n",
       "       [1.00000000e+00, 1.37969464e-11],\n",
       "       [1.00000000e+00, 1.40127362e-11],\n",
       "       [1.00000000e+00, 1.36074653e-11],\n",
       "       [1.00000000e+00, 1.37742553e-11],\n",
       "       [1.00000000e+00, 1.38177918e-11],\n",
       "       [1.00000000e+00, 1.32964784e-11],\n",
       "       [1.00000000e+00, 1.31390736e-11],\n",
       "       [1.00000000e+00, 1.28843007e-11],\n",
       "       [1.00000000e+00, 1.24499324e-11],\n",
       "       [1.00000000e+00, 1.22183678e-11],\n",
       "       [1.00000000e+00, 1.17138632e-11],\n",
       "       [1.00000000e+00, 1.12982105e-11],\n",
       "       [1.00000000e+00, 1.11375092e-11],\n",
       "       [1.00000000e+00, 1.03091318e-11],\n",
       "       [1.00000000e+00, 1.04686387e-11],\n",
       "       [1.00000000e+00, 1.07433624e-11],\n",
       "       [1.00000000e+00, 1.01606074e-11],\n",
       "       [1.00000000e+00, 9.64973322e-12],\n",
       "       [1.00000000e+00, 9.30231256e-12],\n",
       "       [1.00000000e+00, 9.76534814e-12],\n",
       "       [1.00000000e+00, 9.49129955e-12],\n",
       "       [1.00000000e+00, 9.05651102e-12],\n",
       "       [1.00000000e+00, 9.37905562e-12],\n",
       "       [1.00000000e+00, 8.75240834e-12],\n",
       "       [1.00000000e+00, 9.39409342e-12],\n",
       "       [1.00000000e+00, 9.77567573e-12],\n",
       "       [1.00000000e+00, 1.07239083e-11],\n",
       "       [1.00000000e+00, 1.14135802e-11],\n",
       "       [1.00000000e+00, 1.19767655e-11],\n",
       "       [1.00000000e+00, 1.16466619e-11],\n",
       "       [1.00000000e+00, 1.10946532e-11],\n",
       "       [1.00000000e+00, 1.28020683e-11],\n",
       "       [1.00000000e+00, 1.30543771e-11],\n",
       "       [1.00000000e+00, 1.28382327e-11],\n",
       "       [1.00000000e+00, 1.32107318e-11],\n",
       "       [1.00000000e+00, 1.41409267e-11],\n",
       "       [1.00000000e+00, 1.36870273e-11],\n",
       "       [1.00000000e+00, 1.45501284e-11],\n",
       "       [1.00000000e+00, 1.44001368e-11],\n",
       "       [1.00000000e+00, 1.39189340e-11],\n",
       "       [1.00000000e+00, 1.34657244e-11],\n",
       "       [1.00000000e+00, 9.39613014e-12],\n",
       "       [1.00000000e+00, 8.94283607e-12],\n",
       "       [1.00000000e+00, 9.61690451e-12],\n",
       "       [1.00000000e+00, 9.11735598e-12],\n",
       "       [1.00000000e+00, 9.48126286e-12],\n",
       "       [1.00000000e+00, 9.96925372e-12],\n",
       "       [1.00000000e+00, 9.34196874e-12],\n",
       "       [1.00000000e+00, 8.97304900e-12],\n",
       "       [1.00000000e+00, 8.71085979e-12],\n",
       "       [1.00000000e+00, 9.10512205e-12],\n",
       "       [1.00000000e+00, 9.67623307e-12],\n",
       "       [1.00000000e+00, 1.03589563e-11],\n",
       "       [1.00000000e+00, 1.05251165e-11],\n",
       "       [1.00000000e+00, 1.19306687e-11],\n",
       "       [1.00000000e+00, 1.31077430e-11],\n",
       "       [1.00000000e+00, 1.20250147e-11]])"
      ]
     },
     "execution_count": 25,
     "metadata": {},
     "output_type": "execute_result"
    }
   ],
   "source": [
    "lr.predict_proba(testdata)"
   ]
  },
  {
   "cell_type": "code",
   "execution_count": null,
   "metadata": {},
   "outputs": [],
   "source": []
  }
 ],
 "metadata": {
  "kernelspec": {
   "display_name": "Python 3",
   "language": "python",
   "name": "python3"
  },
  "language_info": {
   "codemirror_mode": {
    "name": "ipython",
    "version": 3
   },
   "file_extension": ".py",
   "mimetype": "text/x-python",
   "name": "python",
   "nbconvert_exporter": "python",
   "pygments_lexer": "ipython3",
   "version": "3.8.3"
  }
 },
 "nbformat": 4,
 "nbformat_minor": 4
}
